{
 "cells": [
  {
   "cell_type": "code",
   "execution_count": 1,
   "id": "ea40f279",
   "metadata": {},
   "outputs": [
    {
     "name": "stdout",
     "output_type": "stream",
     "text": [
      "Requirement already satisfied: mtcnn in c:\\users\\jtan15\\appdata\\local\\programs\\python\\python39\\lib\\site-packages (0.1.0)\n",
      "Requirement already satisfied: keras>=2.0.0 in c:\\users\\jtan15\\appdata\\local\\programs\\python\\python39\\lib\\site-packages (from mtcnn) (2.8.0)\n",
      "Requirement already satisfied: opencv-python>=4.1.0 in c:\\users\\jtan15\\appdata\\local\\programs\\python\\python39\\lib\\site-packages (from mtcnn) (4.5.5.64)\n",
      "Requirement already satisfied: numpy>=1.14.5 in c:\\users\\jtan15\\appdata\\local\\programs\\python\\python39\\lib\\site-packages (from opencv-python>=4.1.0->mtcnn) (1.22.3)\n",
      "Note: you may need to restart the kernel to use updated packages.\n"
     ]
    }
   ],
   "source": [
    "pip install mtcnn"
   ]
  },
  {
   "cell_type": "code",
   "execution_count": 2,
   "id": "17970de9",
   "metadata": {},
   "outputs": [
    {
     "name": "stdout",
     "output_type": "stream",
     "text": [
      "0.1.0\n"
     ]
    }
   ],
   "source": [
    "import mtcnn\n",
    "print(mtcnn.__version__)"
   ]
  },
  {
   "cell_type": "code",
   "execution_count": 5,
   "id": "ec7cc2d4",
   "metadata": {},
   "outputs": [
    {
     "ename": "FileNotFoundError",
     "evalue": "[WinError 3] The system cannot find the path specified: 'celebrity/train/ben_afflek/'",
     "output_type": "error",
     "traceback": [
      "\u001b[1;31m---------------------------------------------------------------------------\u001b[0m",
      "\u001b[1;31mFileNotFoundError\u001b[0m                         Traceback (most recent call last)",
      "Input \u001b[1;32mIn [5]\u001b[0m, in \u001b[0;36m<cell line: 38>\u001b[1;34m()\u001b[0m\n\u001b[0;32m     36\u001b[0m i \u001b[38;5;241m=\u001b[39m \u001b[38;5;241m1\u001b[39m\n\u001b[0;32m     37\u001b[0m \u001b[38;5;66;03m# enumerate files\u001b[39;00m\n\u001b[1;32m---> 38\u001b[0m \u001b[38;5;28;01mfor\u001b[39;00m filename \u001b[38;5;129;01min\u001b[39;00m \u001b[43mlistdir\u001b[49m\u001b[43m(\u001b[49m\u001b[43mfolder\u001b[49m\u001b[43m)\u001b[49m:\n\u001b[0;32m     39\u001b[0m     \u001b[38;5;66;03m# path\u001b[39;00m\n\u001b[0;32m     40\u001b[0m     path \u001b[38;5;241m=\u001b[39m folder \u001b[38;5;241m+\u001b[39m filename\n\u001b[0;32m     41\u001b[0m     \u001b[38;5;66;03m# get face\u001b[39;00m\n",
      "\u001b[1;31mFileNotFoundError\u001b[0m: [WinError 3] The system cannot find the path specified: 'celebrity/train/ben_afflek/'"
     ]
    }
   ],
   "source": [
    "#filename = 'celebrity/data/train/ben_afflek.jpg'\n",
    "\n",
    "from os import listdir\n",
    "from PIL import Image\n",
    "from numpy import asarray\n",
    "from mtcnn.mtcnn import MTCNN\n",
    "from matplotlib import pyplot\n",
    " \n",
    "# extract a single face from a given photograph\n",
    "def extract_face(filename, required_size=(160, 160)):\n",
    "    # load image from file\n",
    "    image = Image.open(filename)\n",
    "    # convert to RGB, if needed\n",
    "    image = image.convert('RGB')\n",
    "    # convert to array\n",
    "    pixels = asarray(image)\n",
    "    # create the detector, using default weights\n",
    "    detector = MTCNN()\n",
    "    # detect faces in the image\n",
    "    results = detector.detect_faces(pixels)\n",
    "    # extract the bounding box from the first face\n",
    "    x1, y1, width, height = results[0]['box']\n",
    "    # bug fix\n",
    "    x1, y1 = abs(x1), abs(y1)\n",
    "    x2, y2 = x1 + width, y1 + height\n",
    "    # extract the face\n",
    "    face = pixels[y1:y2, x1:x2]\n",
    "    # resize pixels to the model size\n",
    "    image = Image.fromarray(face)\n",
    "    image = image.resize(required_size)\n",
    "    face_array = asarray(image)\n",
    "    return face_array\n",
    " \n",
    "# specify folder to plot\n",
    "folder = 'celebrity/train/ben_afflek/'\n",
    "i = 1\n",
    "# enumerate files\n",
    "for filename in listdir(folder):\n",
    "    # path\n",
    "    path = folder + filename\n",
    "    # get face\n",
    "    face = extract_face(path)\n",
    "    print(i, face.shape)\n",
    "    # plot\n",
    "    pyplot.subplot(2, 7, i)\n",
    "    pyplot.axis('off')\n",
    "    pyplot.imshow(face)\n",
    "    i += 1\n",
    "pyplot.show()"
   ]
  },
  {
   "cell_type": "code",
   "execution_count": null,
   "id": "ef2dc6e6",
   "metadata": {},
   "outputs": [],
   "source": []
  }
 ],
 "metadata": {
  "kernelspec": {
   "display_name": "Python 3 (ipykernel)",
   "language": "python",
   "name": "python3"
  },
  "language_info": {
   "codemirror_mode": {
    "name": "ipython",
    "version": 3
   },
   "file_extension": ".py",
   "mimetype": "text/x-python",
   "name": "python",
   "nbconvert_exporter": "python",
   "pygments_lexer": "ipython3",
   "version": "3.9.6"
  }
 },
 "nbformat": 4,
 "nbformat_minor": 5
}
